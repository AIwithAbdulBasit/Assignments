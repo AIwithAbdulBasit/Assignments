{
 "cells": [
  {
   "cell_type": "markdown",
   "id": "0722f1f6",
   "metadata": {},
   "source": [
    "### Scenario 1: Grocery Shopping List"
   ]
  },
  {
   "cell_type": "markdown",
   "id": "c25001b8",
   "metadata": {},
   "source": [
    "You are creating a program to manage a grocery shopping list. Users should be able to add items, remove items, and display the current list."
   ]
  },
  {
   "cell_type": "code",
   "execution_count": null,
   "id": "7e35ad52",
   "metadata": {},
   "outputs": [],
   "source": [
    "class GroceryList:\n",
    "    def __init__(self):\n",
    "        self.items = []\n",
    "\n",
    "    def add_item(self, item):\n",
    "        self.items.append(item)\n",
    "        print(f\"{item} added to the list.\")\n",
    "\n",
    "    def remove_item(self, item):\n",
    "        if item in self.items:\n",
    "            self.items.remove(item)\n",
    "            print(f\"{item} removed from the list.\")\n",
    "        else:\n",
    "            print(f\"{item} is not in the list.\")\n",
    "\n",
    "    def display_list(self):\n",
    "        if not self.items:\n",
    "            print(\"The list is empty.\")\n",
    "        else:\n",
    "            print(\"Grocery List:\")\n",
    "            for item in self.items:\n",
    "                print(f\"- {item}\")\n",
    "\n",
    "# Creating an instance of the GroceryList class\n",
    "grocery_list = GroceryList()\n",
    "\n",
    "# Main loop for user interaction\n",
    "while True:\n",
    "    print(\"\\nMenu:\")\n",
    "    print(\"1. Add item to the list\")\n",
    "    print(\"2. Remove item from the list\")\n",
    "    print(\"3. Display the current list\")\n",
    "    print(\"4. Exit\")\n",
    "\n",
    "    choice = input(\"Enter your choice (1-4): \")\n",
    "\n",
    "    if choice == \"1\":\n",
    "        item = input(\"Enter the item to add: \")\n",
    "        grocery_list.add_item(item)\n",
    "    elif choice == \"2\":\n",
    "        item = input(\"Enter the item to remove: \")\n",
    "        grocery_list.remove_item(item)\n",
    "    elif choice == \"3\":\n",
    "        grocery_list.display_list()\n",
    "    elif choice == \"4\":\n",
    "        print(\"Exiting the program. Goodbye!\")\n",
    "        break\n",
    "    else:\n",
    "        print(\"Invalid choice. Please enter a number between 1 and 4.\")"
   ]
  },
  {
   "cell_type": "markdown",
   "id": "a18a5721",
   "metadata": {},
   "source": [
    "### Scenario 2: Student Grades"
   ]
  },
  {
   "cell_type": "markdown",
   "id": "fea28c3e",
   "metadata": {},
   "source": [
    "You are managing student grades using a dictionary. You need to calculate the average grade.take atleast 5 Students grades & then calculate the average."
   ]
  },
  {
   "cell_type": "code",
   "execution_count": null,
   "id": "1ce7f3a0",
   "metadata": {},
   "outputs": [],
   "source": [
    "# Function to calculate the average grade\n",
    "def calculate_average(grades):\n",
    "    total = sum(grades)\n",
    "    average = total / len(grades)\n",
    "    return average\n",
    "\n",
    "# Initialize an empty dictionary to store student grades\n",
    "student_grades = {}\n",
    "\n",
    "# Input grades for at least 5 students\n",
    "for _ in range(5):\n",
    "    student_name = input(\"Enter student name: \")\n",
    "    grade = float(input(f\"Enter {student_name}'s grade: \"))\n",
    "    \n",
    "    # Add the grade to the dictionary\n",
    "    student_grades[student_name] = grade\n",
    "\n",
    "# Calculate and display the average grade\n",
    "grades_list = list(student_grades.values())\n",
    "average_grade = calculate_average(grades_list)\n",
    "\n",
    "print(\"\\nStudent Grades:\")\n",
    "for student, grade in student_grades.items():\n",
    "    print(f\"{student}: {grade}\")\n",
    "\n",
    "print(f\"\\nAverage Grade: {average_grade}\")"
   ]
  },
  {
   "cell_type": "markdown",
   "id": "f8e7a4e7",
   "metadata": {},
   "source": [
    "### Scenario 3: Word Frequency Counter"
   ]
  },
  {
   "cell_type": "markdown",
   "id": "938d8163",
   "metadata": {},
   "source": [
    "You are given a list of words, and you need to count the frequency of each word. word_list = [\"apple\",\"banana\", \"apple\", \"orange\", \"banana\", \"grape\", \"apple\"]"
   ]
  },
  {
   "cell_type": "code",
   "execution_count": null,
   "id": "55545160",
   "metadata": {},
   "outputs": [],
   "source": [
    "word_list = [\"apple\", \"banana\", \"apple\", \"orange\", \"banana\", \"grape\", \"apple\"]\n",
    "\n",
    "# Dictionary to store word frequencies\n",
    "word_count = {}\n",
    "\n",
    "# Counting word frequencies using a for loop\n",
    "for word in word_list:\n",
    "    if word in word_count:\n",
    "        word_count[word] += 1\n",
    "    else:\n",
    "        word_count[word] = 1\n",
    "\n",
    "# Displaying the word frequencies\n",
    "for word, count in word_count.items():\n",
    "    print(f\"{word}: {count} times\")"
   ]
  },
  {
   "cell_type": "markdown",
   "id": "24ab9871",
   "metadata": {},
   "source": [
    "### Scenario 4: Password Strength Checker"
   ]
  },
  {
   "cell_type": "markdown",
   "id": "b702716f",
   "metadata": {},
   "source": [
    "You are creating a program to check the strength of passwords based on certain criteria. • Password should be at least 8 characters long. • Password should contain at least one digit. • Password should contain at least one letter."
   ]
  },
  {
   "cell_type": "code",
   "execution_count": null,
   "id": "0db37d16",
   "metadata": {},
   "outputs": [],
   "source": [
    "def check_password_strength(password):\n",
    "    # Check length\n",
    "    if len(password) < 8:\n",
    "        print(\"Password should be at least 8 characters long.\")\n",
    "        return False\n",
    "\n",
    "    # Check for at least one digit\n",
    "    has_digit = False\n",
    "    for char in password:\n",
    "        if char.isdigit():\n",
    "            has_digit = True\n",
    "            break\n",
    "\n",
    "    if not has_digit:\n",
    "        print(\"Password should contain at least one digit.\")\n",
    "        return False\n",
    "\n",
    "    # Check for at least one letter\n",
    "    has_letter = False\n",
    "    for char in password:\n",
    "        if char.isalpha():\n",
    "            has_letter = True\n",
    "            break\n",
    "\n",
    "    if not has_letter:\n",
    "        print(\"Password should contain at least one letter.\")\n",
    "        return False\n",
    "\n",
    "    # If all criteria are met\n",
    "    print(\"Password is strong!\")\n",
    "    return True\n",
    "\n",
    "# Example usage\n",
    "password = input(\"Enter your password: \")\n",
    "check_password_strength(password)"
   ]
  },
  {
   "cell_type": "markdown",
   "id": "fa0652e6",
   "metadata": {},
   "source": [
    "### Scenario 5: Voting System (Annual Employee Recognition Awards)"
   ]
  },
  {
   "cell_type": "markdown",
   "id": "c1d12b06",
   "metadata": {},
   "source": [
    "You are developing a simple voting system for a contest. Users can vote for their Favorite option, and you need to count the votes. In a corporate setting, the HR department is organizing the Annual Employee Recognition Awards, where employees get the opportunity to vote for their colleagues nominated in different categories. The HR team has decided to use a simple voting system to collect and tally votes for the nominees in various award categories. The script provided will be utilized for this purpose. Candidates: The nominees for different award categories, such as \"Employee of the Year,\" \"Team Player of the Year,\" and \"Innovation Award,\" are represented by the list of candidates: 'Candidate A,' 'Candidate B,' and 'Candidate C.' Voting Process: Employees are requested to input the number of voters participating in the awards. Each voter is presented with a list of nominees, and they can vote for their preferred candidate by entering the corresponding number. Validation: The script ensures that the entered vote is within the valid range of candidates. If an employee enters an invalid vote, the system prompts them to choose a valid candidate. Recording Votes: The script records each vote for the selected candidate and prints a confirmation message indicating that the vote has been recorded. Results Display: Once all votes are collected, the system displays the voting results, showing the number of votes each candidate received in each category. Award Winners: Based on the voting results, the HR department can identify the winners for each award category and proceed with recognizing and rewarding the selected employees during the Annual Employee Recognition Ceremony. This script provides a straightforward and transparent way for employees to participate in the recognition process, fostering a sense of engagement and community within the organization. The HR team can use the collected votes to acknowledge and appreciate the efforts of outstanding employees in various aspects of their work."
   ]
  },
  {
   "cell_type": "code",
   "execution_count": null,
   "id": "d547f94d",
   "metadata": {},
   "outputs": [],
   "source": [
    "class VotingSystem:\n",
    "    def __init__(self, candidates):\n",
    "        self.candidates = candidates\n",
    "        self.votes = {candidate: 0 for candidate in candidates}\n",
    "\n",
    "    def start_voting(self):\n",
    "        try:\n",
    "            num_voters = int(input(\"Enter the number of voters participating: \"))\n",
    "            for _ in range(num_voters):\n",
    "                self.collect_vote()\n",
    "            self.display_results()\n",
    "        except ValueError:\n",
    "            print(\"Invalid input. Please enter a valid number.\")\n",
    "\n",
    "    def collect_vote(self):\n",
    "        print(\"\\nCandidates:\")\n",
    "        for i, candidate in enumerate(self.candidates, 1):\n",
    "            print(f\"{i}. {candidate}\")\n",
    "\n",
    "        try:\n",
    "            vote_index = int(input(\"Enter the number of your preferred candidate: \"))\n",
    "            if 1 <= vote_index <= len(self.candidates):\n",
    "                selected_candidate = self.candidates[vote_index - 1]\n",
    "                self.votes[selected_candidate] += 1\n",
    "                print(f\"Your vote for {selected_candidate} has been recorded.\")\n",
    "            else:\n",
    "                print(\"Invalid vote. Please choose a valid candidate.\")\n",
    "                self.collect_vote()\n",
    "        except ValueError:\n",
    "            print(\"Invalid input. Please enter a valid number.\")\n",
    "\n",
    "    def display_results(self):\n",
    "        print(\"\\nVoting Results:\")\n",
    "        for candidate, votes in self.votes.items():\n",
    "            print(f\"{candidate}: {votes} votes\")\n",
    "\n",
    "        winners = [candidate for candidate, votes in self.votes.items() if votes == max(self.votes.values())]\n",
    "        print(\"\\nAward Winners:\")\n",
    "        for winner in winners:\n",
    "            print(f\"{winner} wins in their respective category!\")\n",
    "\n",
    "\n",
    "# List of candidates for different award categories\n",
    "candidates_list = ['Candidate A', 'Candidate B', 'Candidate C']\n",
    "\n",
    "# Initialize the voting system with the list of candidates\n",
    "voting_system = VotingSystem(candidates_list)\n",
    "\n",
    "# Start the voting process\n",
    "voting_system.start_voting()"
   ]
  },
  {
   "cell_type": "code",
   "execution_count": null,
   "id": "4f79e6ab",
   "metadata": {},
   "outputs": [],
   "source": []
  }
 ],
 "metadata": {
  "kernelspec": {
   "display_name": "Python 3 (ipykernel)",
   "language": "python",
   "name": "python3"
  },
  "language_info": {
   "codemirror_mode": {
    "name": "ipython",
    "version": 3
   },
   "file_extension": ".py",
   "mimetype": "text/x-python",
   "name": "python",
   "nbconvert_exporter": "python",
   "pygments_lexer": "ipython3",
   "version": "3.11.5"
  }
 },
 "nbformat": 4,
 "nbformat_minor": 5
}
