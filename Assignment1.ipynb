{
 "cells": [
  {
   "cell_type": "markdown",
   "id": "37297ed3",
   "metadata": {},
   "source": [
    "###### 1) A company decided to give bonus of 5% to employee if his/her year of service is more than 5 years. Ask user for their salary and year of service and print the net bonus amount."
   ]
  },
  {
   "cell_type": "code",
   "execution_count": 22,
   "id": "6d7f5a99",
   "metadata": {},
   "outputs": [
    {
     "name": "stdout",
     "output_type": "stream",
     "text": [
      "Enter your Salary:- 10000\n",
      "Enter your service duration:- 15\n",
      "Congratulations!; You are eligible for Bonus\n",
      "Your gaining bonus is 500.0 and Your net bonus with salary is 10500.0Rs.\n"
     ]
    }
   ],
   "source": [
    "Salary = int(input(\"Enter your Salary:- \"))\n",
    "service = int(input(\"Enter your service duration:- \"))\n",
    "\n",
    "service_required = 5\n",
    "Bonus = Salary*0.05\n",
    "\n",
    "if service >= service_required:\n",
    "    print(\"Congratulations!; You are eligible for Bonus\")\n",
    "    \n",
    "    print(f\"Your gaining bonus is {Bonus} and Your net bonus with salary is {Bonus + Salary}Rs.\")\n",
    "    \n",
    "else:\n",
    "    print(\"Sorry!; You are not eligible for Bonus\")"
   ]
  },
  {
   "cell_type": "markdown",
   "id": "be299da8",
   "metadata": {},
   "source": [
    "###### 2) Write a program to check whether a person is eligible for voting or not. (accept age from user) if age is greater than 17 eligible otherwise not eligible."
   ]
  },
  {
   "cell_type": "code",
   "execution_count": 23,
   "id": "00e04220",
   "metadata": {},
   "outputs": [
    {
     "name": "stdout",
     "output_type": "stream",
     "text": [
      "Enter you age: 19\n",
      "You are eligible for voting\n"
     ]
    }
   ],
   "source": [
    "age = int(input(\"Enter you age: \"))\n",
    "\n",
    "if age >17:\n",
    "    print(\"You are eligible for voting\")\n",
    "    \n",
    "else:\n",
    "    print(\"Sorry, You are not eligible for voting this time\")"
   ]
  },
  {
   "cell_type": "markdown",
   "id": "868c8129",
   "metadata": {},
   "source": [
    "###### 3) Write a program to check whether a number entered by user is even or odd."
   ]
  },
  {
   "cell_type": "code",
   "execution_count": 24,
   "id": "eefe947d",
   "metadata": {},
   "outputs": [
    {
     "name": "stdout",
     "output_type": "stream",
     "text": [
      "Enter you number: 5\n",
      "The number is odd\n"
     ]
    }
   ],
   "source": [
    "num = int(input(\"Enter you number: \"))\n",
    "\n",
    "if num%2==0:\n",
    "    print(\"The number is even\")\n",
    "    \n",
    "else:\n",
    "    print(\"The number is odd\")"
   ]
  },
  {
   "cell_type": "markdown",
   "id": "c8f3d742",
   "metadata": {},
   "source": [
    "###### 4) Write a program to check whether a number is divisible by 7 or not."
   ]
  },
  {
   "cell_type": "code",
   "execution_count": 18,
   "id": "4a1e80fe",
   "metadata": {},
   "outputs": [
    {
     "name": "stdout",
     "output_type": "stream",
     "text": [
      "Enter you number: 27\n",
      "The number is not divisible by 7\n"
     ]
    }
   ],
   "source": [
    "n = int(input(\"Enter you number: \"))\n",
    "\n",
    "if n%7==0:\n",
    "    print(\"The number is divisible by 7\")\n",
    "else:\n",
    "    print(\"The number is not divisible by 7\")"
   ]
  },
  {
   "cell_type": "markdown",
   "id": "62d04d8d",
   "metadata": {},
   "source": [
    "###### 5) Write a program to display \n",
    "\"Hello\" if a number entered by user is a multiple of five , otherwise print \"Bye\"."
   ]
  },
  {
   "cell_type": "code",
   "execution_count": 21,
   "id": "13738758",
   "metadata": {},
   "outputs": [
    {
     "name": "stdout",
     "output_type": "stream",
     "text": [
      "Enter you number: 3\n",
      "Bye\n"
     ]
    }
   ],
   "source": [
    "number = int(input(\"Enter you number: \"))\n",
    "\n",
    "if number%5==0:\n",
    "     print(\"Hello\")\n",
    "\n",
    "else:\n",
    "    print(\"Bye\")"
   ]
  },
  {
   "cell_type": "markdown",
   "id": "40d615e2",
   "metadata": {},
   "source": [
    "###### 6) Write a program to calculate the electricity bill (accept number of unit from user) according to the following criteria :Unit                                                     Price  uptp 100 units                                             no charge Next 200 units                                              Rs 5 per unit After 200 units                                             Rs 10 per unit (For example if input unit is 350 than total bill amount is Rs.3500 (For example if input unit is 97 than total bill amount is Rs.0 (For example if input unit is 150 than total bill amount is Rs.750"
   ]
  },
  {
   "cell_type": "code",
   "execution_count": null,
   "id": "97a3acf4",
   "metadata": {},
   "outputs": [],
   "source": []
  },
  {
   "cell_type": "markdown",
   "id": "13d15dae",
   "metadata": {},
   "source": [
    "###### 7) Write a program to display the last digit of a number.\n"
   ]
  },
  {
   "cell_type": "code",
   "execution_count": 28,
   "id": "f5a6683b",
   "metadata": {},
   "outputs": [
    {
     "name": "stdout",
     "output_type": "stream",
     "text": [
      "Please enter any number: 123456\n",
      "last digit of anumber 123456 is : 6\n"
     ]
    }
   ],
   "source": [
    "n = int(input(\"Please enter any number: \"))\n",
    "\n",
    "last_digit = n%10\n",
    "\n",
    "print(f\"last digit of anumber {n} is : {last_digit}\")"
   ]
  },
  {
   "cell_type": "markdown",
   "id": "df2b742a",
   "metadata": {},
   "source": [
    "###### 8) Write a program to check whether the last digit of a number( entered by user ) is divisible by 3 or not."
   ]
  },
  {
   "cell_type": "code",
   "execution_count": 31,
   "id": "e3d728c6",
   "metadata": {},
   "outputs": [
    {
     "name": "stdout",
     "output_type": "stream",
     "text": [
      "Please enter any number: 1259\n",
      "last digit of anumber 1259 is : 9\n",
      "Yes, the last digit is divisible by 3\n"
     ]
    }
   ],
   "source": [
    "n = int(input(\"Please enter any number: \"))\n",
    "\n",
    "last_digit = n%10\n",
    "print(f\"last digit of anumber {n} is : {last_digit}\")\n",
    "\n",
    "if last_digit%3==0:\n",
    "    print(\"Yes, the last digit is divisible by 3\")\n",
    "else:\n",
    "    print(\"No, the last digit is not divisible by 3\")"
   ]
  },
  {
   "cell_type": "markdown",
   "id": "137c18d1",
   "metadata": {},
   "source": [
    "###### 9) Take values of length and breadth of a rectangle from user and print if it is square or rectangle."
   ]
  },
  {
   "cell_type": "code",
   "execution_count": 33,
   "id": "5562890d",
   "metadata": {},
   "outputs": [
    {
     "name": "stdout",
     "output_type": "stream",
     "text": [
      "Enter length: 5\n",
      "Enter breadth: 6\n",
      "This is rectangle\n"
     ]
    }
   ],
   "source": [
    "length_0f_rectangle = int(input(\"Enter length: \"))\n",
    "breadt_0f_rectangle = int(input(\"Enter breadth: \"))\n",
    "\n",
    "if length_0f_rectangle == breadt_0f_rectangle:\n",
    "    print(\"This is square\")\n",
    "else:\n",
    "    print(\"This is rectangle\")"
   ]
  },
  {
   "cell_type": "markdown",
   "id": "1db61eac",
   "metadata": {},
   "source": [
    "###### 10) Take two int values from user and print greatest among them."
   ]
  },
  {
   "cell_type": "code",
   "execution_count": 35,
   "id": "d9307c6f",
   "metadata": {},
   "outputs": [
    {
     "name": "stdout",
     "output_type": "stream",
     "text": [
      "Enter your first value:- 8\n",
      "Enter your second value:- 9\n",
      "The greatest value among them is 9\n"
     ]
    }
   ],
   "source": [
    "num_1 = int(input(\"Enter your first value:- \"))\n",
    "num_2 = int(input(\"Enter your second value:- \"))\n",
    "\n",
    "if num_1 > num_2:\n",
    "    print(f\"The greatest number among them is {num_1}\")\n",
    "elif num_2 > num_1:\n",
    "    print(f\"The greatest value among them is {num_2}\")\n",
    "else:\n",
    "    print(\"Both values are same\")"
   ]
  },
  {
   "cell_type": "markdown",
   "id": "3d09611a",
   "metadata": {},
   "source": [
    "###### 11) A shop will give discount of 10% if the cost of purchased quantity is more than 1000. Ask user for quantity Suppose, one unit will cost 100. Judge and print total cost for user."
   ]
  },
  {
   "cell_type": "code",
   "execution_count": 37,
   "id": "2a2c9e14",
   "metadata": {},
   "outputs": [
    {
     "name": "stdout",
     "output_type": "stream",
     "text": [
      "Enter the purchase quantity:- 100\n",
      "Congrats! You get a 10% discount\n",
      "Total cost of your quantity after get discounted is: $9000.0\n"
     ]
    }
   ],
   "source": [
    "unit = int(input(\"Enter the purchase quantity:- \"))\n",
    "cost_per_unit = 100\n",
    "total_cost = unit * cost_per_unit\n",
    "discount = 0.10 * total_cost\n",
    "if total_cost > 1000:\n",
    "    total_cost -=discount\n",
    "    print(\"Congrats! You get a 10% discount\")\n",
    "    print(f\"Total cost of your quantity after get discounted is: ${total_cost}\")\n",
    "else:\n",
    "    print(\"Sorry! your don't get a discount\")"
   ]
  },
  {
   "cell_type": "markdown",
   "id": "0feb3da4",
   "metadata": {},
   "source": [
    "###### 12) A school has following rules for grading system: a. Below 25 - F b. 25 to 45 - E c. 45 to 50 - D d. 50 to 60 - C e. 60 to 80 - B f. Above 80 - A Ask user to enter marks and print the corresponding grade."
   ]
  },
  {
   "cell_type": "code",
   "execution_count": 39,
   "id": "60aea29a",
   "metadata": {},
   "outputs": [
    {
     "name": "stdout",
     "output_type": "stream",
     "text": [
      "Please Enter your marks:- 75\n",
      "Your grade is B\n"
     ]
    }
   ],
   "source": [
    "marks = int(input(\"Please Enter your marks:- \"))\n",
    "if marks<25:\n",
    "  print (\"Your grade is F\")\n",
    "elif marks>=25 and marks<45:\n",
    "  print (\"Your grade is E\")\n",
    "elif marks>=45 and marks<50:\n",
    "  print (\"Your grade is D\")\n",
    "elif marks>=50 and marks<60:\n",
    "  print (\"Your grade is C\")\n",
    "elif marks>=60 and marks<80:\n",
    "  print (\"Your grade is B\")\n",
    "else:\n",
    "  print (\"Your grade is A\")"
   ]
  },
  {
   "cell_type": "markdown",
   "id": "577a1aba",
   "metadata": {},
   "source": [
    "###### 13) Take input of age of 3 people by user and determine oldest and youngest among them."
   ]
  },
  {
   "cell_type": "code",
   "execution_count": 41,
   "id": "f7b33d38",
   "metadata": {},
   "outputs": [
    {
     "name": "stdout",
     "output_type": "stream",
     "text": [
      "Enter the age of person 1:- 18\n",
      "Enter the age of person 2:- 20\n",
      "Enter the age of person 3:- 16\n",
      "20 years old is the oldest person among them.\n",
      "16 years old is the youngest person among them.\n"
     ]
    }
   ],
   "source": [
    "age1 = int(input(\"Enter the age of person 1:- \"))\n",
    "age2 = int(input(\"Enter the age of person 2:- \"))\n",
    "age3 = int(input(\"Enter the age of person 3:- \"))\n",
    "oldest = max(age1, age2, age3)\n",
    "youngest = min(age1 ,age2 ,age3)\n",
    "print(f\"{oldest} years old is the oldest person among them.\")\n",
    "print(f\"{youngest} years old is the youngest person among them.\")"
   ]
  },
  {
   "cell_type": "markdown",
   "id": "7b0bbf4a",
   "metadata": {},
   "source": [
    "###### 14) A student will not be allowed to sit in exam if his/her attendence is less than 75%. Take following input from user Number of classes held Number of classes attended. And print percentage of class attended Is student is allowed to sit in exam or not."
   ]
  },
  {
   "cell_type": "code",
   "execution_count": 43,
   "id": "cb45e125",
   "metadata": {},
   "outputs": [
    {
     "name": "stdout",
     "output_type": "stream",
     "text": [
      "Enter number of classes held:- 10\n",
      "Enter number of classes attended:- 9\n",
      "You are allowed to sit in the exam because your class attandence percentage is met with the attandence criteria of exams.\n",
      "Your attandence of class is 90.0%\n"
     ]
    }
   ],
   "source": [
    "class_held = int(input(\"Enter number of classes held:- \"))\n",
    "class_attended = int(input(\"Enter number of classes attended:- \"))\n",
    "percentage_of_attandence = (class_attended / class_held) * 100\n",
    "if percentage_of_attandence >= 75:\n",
    "    print(\"You are allowed to sit in the exam because your class attandence percentage is met with the attandence criteria of exams.\")\n",
    "    print(f\"Your attandence of class is {percentage_of_attandence}%\")\n",
    "else:\n",
    "    print(\"You are not allowed to sit in the exam because your class attandence is less than 75%\")\n",
    "    print(f\"Your attandence of class is {percentage_of_attandence}%\")"
   ]
  },
  {
   "cell_type": "markdown",
   "id": "eb6b982e",
   "metadata": {},
   "source": [
    "###### 15) Modify the above question to allow student to sit if he/she has medical cause. Ask user if he/she has medical cause or not ( 'Y' or 'N' ) and print accordingly."
   ]
  },
  {
   "cell_type": "code",
   "execution_count": 47,
   "id": "ee9e7fe4",
   "metadata": {},
   "outputs": [
    {
     "name": "stdout",
     "output_type": "stream",
     "text": [
      "Enter number of classes held:- 10\n",
      "Enter number of classes attended:- 2\n",
      "Enter if you have any medical cause (Y or N):- Y\n",
      "You are not allowed to sit in the exam because you have medical causes.\n"
     ]
    }
   ],
   "source": [
    "class_held = int(input(\"Enter number of classes held:- \"))\n",
    "class_attended = int(input(\"Enter number of classes attended:- \"))\n",
    "medical_cause = input(\"Enter if you have any medical cause (Y or N):- \")\n",
    "percentage_of_attandence = (class_attended / class_held) * 100\n",
    "if percentage_of_attandence >= 75 and medical_cause == 'N':\n",
    "    print(\"You are allowed to sit in the exam because your class attandence percentage is met with the attandence criteria of exams.\")\n",
    "    print(f\"Your attandence of class is {percentage_of_attandence}%\")\n",
    "elif medical_cause == 'Y':\n",
    "    print(\"You are not allowed to sit in the exam because you have medical causes.\")\n",
    "else:\n",
    "    print(\"You are not allowed to sit in the exam because your class attandence is less than 75%\")\n",
    "    print(f\"Your attandence of class is {percentage_of_attandence}%\")"
   ]
  },
  {
   "cell_type": "markdown",
   "id": "716ff1db",
   "metadata": {},
   "source": [
    "###### 16) Write a program to check if a year is leap year or not. If a year is divisible by 4 then it is leap year but if the year is century year like 2000, 1900, 2100 then it must be divisible by 400."
   ]
  },
  {
   "cell_type": "code",
   "execution_count": 51,
   "id": "9baeb4ad",
   "metadata": {},
   "outputs": [
    {
     "name": "stdout",
     "output_type": "stream",
     "text": [
      "Enter a year:- 2024\n",
      "2024 is a leap year\n"
     ]
    }
   ],
   "source": [
    "year = int(input(\"Enter a year:- \"))\n",
    "if (year % 4 == 0 and year % 100 != 0) or (year % 400 == 0):\n",
    "    print(f\"{year} is a leap year\")\n",
    "else:\n",
    "    print(f\"{year} is not a leap year\")"
   ]
  },
  {
   "cell_type": "markdown",
   "id": "05606d70",
   "metadata": {},
   "source": [
    "###### 17) Ask user to enter age, gender ( M or F ), marital status ( Y or N ) and then using following rules print their place of service. if employee is female, then she will work only in urban areas. if employee is a male and age is in between 20 to 40 then he may work in anywhere if employee is male and age is in between 40 t0 60 then he will work in urban areas only. And any other input of age should print \"ERROR\""
   ]
  },
  {
   "cell_type": "code",
   "execution_count": 53,
   "id": "8c624d25",
   "metadata": {},
   "outputs": [
    {
     "name": "stdout",
     "output_type": "stream",
     "text": [
      "Enter your Age:- 20\n",
      "Enter your Gender (M or F):- M\n",
      "Are you married? (Y or N):- N\n",
      "You will work Anywhere.\n"
     ]
    }
   ],
   "source": [
    "age = int(input(\"Enter your Age:- \"))\n",
    "gender = input(\"Enter your Gender (M or F):- \") .upper ()\n",
    "marital_status = input(\"Are you married? (Y or N):- \")\n",
    "if gender == 'F':\n",
    "    print(\"You will work only in urban areas.\")\n",
    "elif gender == 'M' and 20 <= age <= 40:\n",
    "    print(\"You will work Anywhere.\")\n",
    "elif gender == 'M' and 40 <= age <= 60:\n",
    "    print(\"You will work only in urban areas.\")\n",
    "else:\n",
    "    print(\"ERROR\")"
   ]
  },
  {
   "cell_type": "code",
   "execution_count": null,
   "id": "e8bdbe4b",
   "metadata": {},
   "outputs": [],
   "source": []
  }
 ],
 "metadata": {
  "kernelspec": {
   "display_name": "Python 3 (ipykernel)",
   "language": "python",
   "name": "python3"
  },
  "language_info": {
   "codemirror_mode": {
    "name": "ipython",
    "version": 3
   },
   "file_extension": ".py",
   "mimetype": "text/x-python",
   "name": "python",
   "nbconvert_exporter": "python",
   "pygments_lexer": "ipython3",
   "version": "3.11.5"
  }
 },
 "nbformat": 4,
 "nbformat_minor": 5
}
